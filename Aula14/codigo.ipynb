{
 "cells": [
  {
   "cell_type": "code",
   "execution_count": null,
   "metadata": {},
   "outputs": [],
   "source": []
  },
  {
   "cell_type": "code",
   "execution_count": 1,
   "metadata": {},
   "outputs": [],
   "source": [
    "#Importando as bibliotecas\n",
    "import numpy as np\n",
    "import pandas as pd\n",
    "from sklearn.cluster import KMeans #IMporta a biblioteca Kmeans\n",
    "import matplotlib.pyplot as plt\n"
   ]
  },
  {
   "cell_type": "code",
   "execution_count": 2,
   "metadata": {},
   "outputs": [],
   "source": [
    "# Criando o conjunto de dados\n",
    "cliente_id = np.array([0,1,2,3,4,5,6,7,8,9,10])\n",
    "valor_compra = np.array([40, 150, 500, 5000, 1834, 2350, \n",
    "                         5000, 6740, 895, 3300, 4750])"
   ]
  },
  {
   "cell_type": "code",
   "execution_count": 3,
   "metadata": {},
   "outputs": [],
   "source": [
    "#Juntando as colunas dos dados\n",
    "dados_compras = np.column_stack((cliente_id, valor_compra))"
   ]
  },
  {
   "cell_type": "code",
   "execution_count": 4,
   "metadata": {},
   "outputs": [
    {
     "data": {
      "text/plain": [
       "array([[   0,   40],\n",
       "       [   1,  150],\n",
       "       [   2,  500],\n",
       "       [   3, 5000],\n",
       "       [   4, 1834],\n",
       "       [   5, 2350],\n",
       "       [   6, 5000],\n",
       "       [   7, 6740],\n",
       "       [   8,  895],\n",
       "       [   9, 3300],\n",
       "       [  10, 4750]])"
      ]
     },
     "execution_count": 4,
     "metadata": {},
     "output_type": "execute_result"
    }
   ],
   "source": [
    "dados_compras"
   ]
  }
 ],
 "metadata": {
  "kernelspec": {
   "display_name": "Python 3",
   "language": "python",
   "name": "python3"
  },
  "language_info": {
   "codemirror_mode": {
    "name": "ipython",
    "version": 3
   },
   "file_extension": ".py",
   "mimetype": "text/x-python",
   "name": "python",
   "nbconvert_exporter": "python",
   "pygments_lexer": "ipython3",
   "version": "3.11.8"
  }
 },
 "nbformat": 4,
 "nbformat_minor": 2
}
