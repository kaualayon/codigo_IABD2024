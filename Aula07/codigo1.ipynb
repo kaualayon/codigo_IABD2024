{
 "cells": [
  {
   "cell_type": "code",
   "execution_count": null,
   "metadata": {},
   "outputs": [],
   "source": []
  },
  {
   "cell_type": "markdown",
   "metadata": {},
   "source": [
    "Objetivo: Classificar se uma pessoa comprou ou não comprou um produto com base no salário ou na idade"
   ]
  },
  {
   "cell_type": "code",
   "execution_count": 31,
   "metadata": {},
   "outputs": [],
   "source": [
    "#Importa a biblioteca pandas\n",
    "import pandas as pd"
   ]
  },
  {
   "cell_type": "code",
   "execution_count": 32,
   "metadata": {},
   "outputs": [],
   "source": [
    "df = pd.read_csv('Social_Network_Ads.csv', sep=',')# Importa a base de dados"
   ]
  },
  {
   "cell_type": "code",
   "execution_count": 33,
   "metadata": {},
   "outputs": [
    {
     "data": {
      "text/html": [
       "<div>\n",
       "<style scoped>\n",
       "    .dataframe tbody tr th:only-of-type {\n",
       "        vertical-align: middle;\n",
       "    }\n",
       "\n",
       "    .dataframe tbody tr th {\n",
       "        vertical-align: top;\n",
       "    }\n",
       "\n",
       "    .dataframe thead th {\n",
       "        text-align: right;\n",
       "    }\n",
       "</style>\n",
       "<table border=\"1\" class=\"dataframe\">\n",
       "  <thead>\n",
       "    <tr style=\"text-align: right;\">\n",
       "      <th></th>\n",
       "      <th>User ID</th>\n",
       "      <th>Gender</th>\n",
       "      <th>Age</th>\n",
       "      <th>EstimatedSalary</th>\n",
       "      <th>Purchased</th>\n",
       "    </tr>\n",
       "  </thead>\n",
       "  <tbody>\n",
       "    <tr>\n",
       "      <th>0</th>\n",
       "      <td>15624510</td>\n",
       "      <td>Male</td>\n",
       "      <td>19</td>\n",
       "      <td>19000</td>\n",
       "      <td>0</td>\n",
       "    </tr>\n",
       "    <tr>\n",
       "      <th>1</th>\n",
       "      <td>15810944</td>\n",
       "      <td>Male</td>\n",
       "      <td>35</td>\n",
       "      <td>20000</td>\n",
       "      <td>0</td>\n",
       "    </tr>\n",
       "    <tr>\n",
       "      <th>2</th>\n",
       "      <td>15668575</td>\n",
       "      <td>Female</td>\n",
       "      <td>26</td>\n",
       "      <td>43000</td>\n",
       "      <td>0</td>\n",
       "    </tr>\n",
       "    <tr>\n",
       "      <th>3</th>\n",
       "      <td>15603246</td>\n",
       "      <td>Female</td>\n",
       "      <td>27</td>\n",
       "      <td>57000</td>\n",
       "      <td>0</td>\n",
       "    </tr>\n",
       "    <tr>\n",
       "      <th>4</th>\n",
       "      <td>15804002</td>\n",
       "      <td>Male</td>\n",
       "      <td>19</td>\n",
       "      <td>76000</td>\n",
       "      <td>0</td>\n",
       "    </tr>\n",
       "  </tbody>\n",
       "</table>\n",
       "</div>"
      ],
      "text/plain": [
       "    User ID  Gender  Age  EstimatedSalary  Purchased\n",
       "0  15624510    Male   19            19000          0\n",
       "1  15810944    Male   35            20000          0\n",
       "2  15668575  Female   26            43000          0\n",
       "3  15603246  Female   27            57000          0\n",
       "4  15804002    Male   19            76000          0"
      ]
     },
     "execution_count": 33,
     "metadata": {},
     "output_type": "execute_result"
    }
   ],
   "source": [
    "df.head() # Exibe as primeiras linhas do dataframe"
   ]
  },
  {
   "cell_type": "code",
   "execution_count": 34,
   "metadata": {},
   "outputs": [],
   "source": [
    "#Cria o dicionario\n",
    "colunas = {'User ID': 'Usuario', \n",
    "           'Gender': 'Genero',\n",
    "           'Age': 'Idade', 'EstimatedSalary': 'Salario Estimado',\n",
    "           'Purchased': 'Comprou'}"
   ]
  },
  {
   "cell_type": "code",
   "execution_count": 35,
   "metadata": {},
   "outputs": [],
   "source": [
    "df.rename(columns=colunas, inplace=True) # Renomeia as colunas"
   ]
  },
  {
   "cell_type": "code",
   "execution_count": 36,
   "metadata": {},
   "outputs": [
    {
     "data": {
      "text/html": [
       "<div>\n",
       "<style scoped>\n",
       "    .dataframe tbody tr th:only-of-type {\n",
       "        vertical-align: middle;\n",
       "    }\n",
       "\n",
       "    .dataframe tbody tr th {\n",
       "        vertical-align: top;\n",
       "    }\n",
       "\n",
       "    .dataframe thead th {\n",
       "        text-align: right;\n",
       "    }\n",
       "</style>\n",
       "<table border=\"1\" class=\"dataframe\">\n",
       "  <thead>\n",
       "    <tr style=\"text-align: right;\">\n",
       "      <th></th>\n",
       "      <th>Usuario</th>\n",
       "      <th>Genero</th>\n",
       "      <th>Idade</th>\n",
       "      <th>Salario Estimado</th>\n",
       "      <th>Comprou</th>\n",
       "    </tr>\n",
       "  </thead>\n",
       "  <tbody>\n",
       "    <tr>\n",
       "      <th>0</th>\n",
       "      <td>15624510</td>\n",
       "      <td>Male</td>\n",
       "      <td>19</td>\n",
       "      <td>19000</td>\n",
       "      <td>0</td>\n",
       "    </tr>\n",
       "    <tr>\n",
       "      <th>1</th>\n",
       "      <td>15810944</td>\n",
       "      <td>Male</td>\n",
       "      <td>35</td>\n",
       "      <td>20000</td>\n",
       "      <td>0</td>\n",
       "    </tr>\n",
       "    <tr>\n",
       "      <th>2</th>\n",
       "      <td>15668575</td>\n",
       "      <td>Female</td>\n",
       "      <td>26</td>\n",
       "      <td>43000</td>\n",
       "      <td>0</td>\n",
       "    </tr>\n",
       "    <tr>\n",
       "      <th>3</th>\n",
       "      <td>15603246</td>\n",
       "      <td>Female</td>\n",
       "      <td>27</td>\n",
       "      <td>57000</td>\n",
       "      <td>0</td>\n",
       "    </tr>\n",
       "    <tr>\n",
       "      <th>4</th>\n",
       "      <td>15804002</td>\n",
       "      <td>Male</td>\n",
       "      <td>19</td>\n",
       "      <td>76000</td>\n",
       "      <td>0</td>\n",
       "    </tr>\n",
       "  </tbody>\n",
       "</table>\n",
       "</div>"
      ],
      "text/plain": [
       "    Usuario  Genero  Idade  Salario Estimado  Comprou\n",
       "0  15624510    Male     19             19000        0\n",
       "1  15810944    Male     35             20000        0\n",
       "2  15668575  Female     26             43000        0\n",
       "3  15603246  Female     27             57000        0\n",
       "4  15804002    Male     19             76000        0"
      ]
     },
     "execution_count": 36,
     "metadata": {},
     "output_type": "execute_result"
    }
   ],
   "source": [
    "df.head()"
   ]
  },
  {
   "cell_type": "markdown",
   "metadata": {},
   "source": [
    "Importando as bibliotecas necessárias para realizar a análise de dados"
   ]
  },
  {
   "cell_type": "code",
   "execution_count": 37,
   "metadata": {},
   "outputs": [],
   "source": [
    "import numpy as np #Importa a biblioteca numpy\n",
    "import matplotlib.pyplot as plt\n",
    "from sklearn.svm import SVC #Importa o algoritmo de svm\n",
    "from sklearn.preprocessing import StandardScaler # Biblioteca para normalizar os dados\n",
    "from sklearn.metrics import confusion_matrix, accuracy_score, precision_score, f1_score #Biblioteca para gerar as metricas\n",
    "from matplotlib.colors import ListedColormap # Biblioteca para alterar cor dos graficos"
   ]
  },
  {
   "cell_type": "markdown",
   "metadata": {},
   "source": [
    "Selecionando as colunas do dataset"
   ]
  },
  {
   "cell_type": "code",
   "execution_count": 38,
   "metadata": {},
   "outputs": [],
   "source": [
    "X = df.iloc[:, [2,3]].values # x é a entrada onde pega a idade e a renda dos clientes\n",
    "y = df.iloc[:, -1].values # y é a saída\n"
   ]
  },
  {
   "cell_type": "code",
   "execution_count": 39,
   "metadata": {},
   "outputs": [
    {
     "data": {
      "text/plain": [
       "array([[    19,  19000],\n",
       "       [    35,  20000],\n",
       "       [    26,  43000],\n",
       "       [    27,  57000],\n",
       "       [    19,  76000],\n",
       "       [    27,  58000],\n",
       "       [    27,  84000],\n",
       "       [    32, 150000],\n",
       "       [    25,  33000],\n",
       "       [    35,  65000],\n",
       "       [    26,  80000],\n",
       "       [    26,  52000],\n",
       "       [    20,  86000],\n",
       "       [    32,  18000],\n",
       "       [    18,  82000],\n",
       "       [    29,  80000],\n",
       "       [    47,  25000],\n",
       "       [    45,  26000],\n",
       "       [    46,  28000],\n",
       "       [    48,  29000],\n",
       "       [    45,  22000],\n",
       "       [    47,  49000],\n",
       "       [    48,  41000],\n",
       "       [    45,  22000],\n",
       "       [    46,  23000],\n",
       "       [    47,  20000],\n",
       "       [    49,  28000],\n",
       "       [    47,  30000],\n",
       "       [    29,  43000],\n",
       "       [    31,  18000],\n",
       "       [    31,  74000],\n",
       "       [    27, 137000],\n",
       "       [    21,  16000],\n",
       "       [    28,  44000],\n",
       "       [    27,  90000],\n",
       "       [    35,  27000],\n",
       "       [    33,  28000],\n",
       "       [    30,  49000],\n",
       "       [    26,  72000],\n",
       "       [    27,  31000],\n",
       "       [    27,  17000],\n",
       "       [    33,  51000],\n",
       "       [    35, 108000],\n",
       "       [    30,  15000],\n",
       "       [    28,  84000],\n",
       "       [    23,  20000],\n",
       "       [    25,  79000],\n",
       "       [    27,  54000],\n",
       "       [    30, 135000],\n",
       "       [    31,  89000],\n",
       "       [    24,  32000],\n",
       "       [    18,  44000],\n",
       "       [    29,  83000],\n",
       "       [    35,  23000],\n",
       "       [    27,  58000],\n",
       "       [    24,  55000],\n",
       "       [    23,  48000],\n",
       "       [    28,  79000],\n",
       "       [    22,  18000],\n",
       "       [    32, 117000],\n",
       "       [    27,  20000],\n",
       "       [    25,  87000],\n",
       "       [    23,  66000],\n",
       "       [    32, 120000],\n",
       "       [    59,  83000],\n",
       "       [    24,  58000],\n",
       "       [    24,  19000],\n",
       "       [    23,  82000],\n",
       "       [    22,  63000],\n",
       "       [    31,  68000],\n",
       "       [    25,  80000],\n",
       "       [    24,  27000],\n",
       "       [    20,  23000],\n",
       "       [    33, 113000],\n",
       "       [    32,  18000],\n",
       "       [    34, 112000],\n",
       "       [    18,  52000],\n",
       "       [    22,  27000],\n",
       "       [    28,  87000],\n",
       "       [    26,  17000],\n",
       "       [    30,  80000],\n",
       "       [    39,  42000],\n",
       "       [    20,  49000],\n",
       "       [    35,  88000],\n",
       "       [    30,  62000],\n",
       "       [    31, 118000],\n",
       "       [    24,  55000],\n",
       "       [    28,  85000],\n",
       "       [    26,  81000],\n",
       "       [    35,  50000],\n",
       "       [    22,  81000],\n",
       "       [    30, 116000],\n",
       "       [    26,  15000],\n",
       "       [    29,  28000],\n",
       "       [    29,  83000],\n",
       "       [    35,  44000],\n",
       "       [    35,  25000],\n",
       "       [    28, 123000],\n",
       "       [    35,  73000],\n",
       "       [    28,  37000],\n",
       "       [    27,  88000],\n",
       "       [    28,  59000],\n",
       "       [    32,  86000],\n",
       "       [    33, 149000],\n",
       "       [    19,  21000],\n",
       "       [    21,  72000],\n",
       "       [    26,  35000],\n",
       "       [    27,  89000],\n",
       "       [    26,  86000],\n",
       "       [    38,  80000],\n",
       "       [    39,  71000],\n",
       "       [    37,  71000],\n",
       "       [    38,  61000],\n",
       "       [    37,  55000],\n",
       "       [    42,  80000],\n",
       "       [    40,  57000],\n",
       "       [    35,  75000],\n",
       "       [    36,  52000],\n",
       "       [    40,  59000],\n",
       "       [    41,  59000],\n",
       "       [    36,  75000],\n",
       "       [    37,  72000],\n",
       "       [    40,  75000],\n",
       "       [    35,  53000],\n",
       "       [    41,  51000],\n",
       "       [    39,  61000],\n",
       "       [    42,  65000],\n",
       "       [    26,  32000],\n",
       "       [    30,  17000],\n",
       "       [    26,  84000],\n",
       "       [    31,  58000],\n",
       "       [    33,  31000],\n",
       "       [    30,  87000],\n",
       "       [    21,  68000],\n",
       "       [    28,  55000],\n",
       "       [    23,  63000],\n",
       "       [    20,  82000],\n",
       "       [    30, 107000],\n",
       "       [    28,  59000],\n",
       "       [    19,  25000],\n",
       "       [    19,  85000],\n",
       "       [    18,  68000],\n",
       "       [    35,  59000],\n",
       "       [    30,  89000],\n",
       "       [    34,  25000],\n",
       "       [    24,  89000],\n",
       "       [    27,  96000],\n",
       "       [    41,  30000],\n",
       "       [    29,  61000],\n",
       "       [    20,  74000],\n",
       "       [    26,  15000],\n",
       "       [    41,  45000],\n",
       "       [    31,  76000],\n",
       "       [    36,  50000],\n",
       "       [    40,  47000],\n",
       "       [    31,  15000],\n",
       "       [    46,  59000],\n",
       "       [    29,  75000],\n",
       "       [    26,  30000],\n",
       "       [    32, 135000],\n",
       "       [    32, 100000],\n",
       "       [    25,  90000],\n",
       "       [    37,  33000],\n",
       "       [    35,  38000],\n",
       "       [    33,  69000],\n",
       "       [    18,  86000],\n",
       "       [    22,  55000],\n",
       "       [    35,  71000],\n",
       "       [    29, 148000],\n",
       "       [    29,  47000],\n",
       "       [    21,  88000],\n",
       "       [    34, 115000],\n",
       "       [    26, 118000],\n",
       "       [    34,  43000],\n",
       "       [    34,  72000],\n",
       "       [    23,  28000],\n",
       "       [    35,  47000],\n",
       "       [    25,  22000],\n",
       "       [    24,  23000],\n",
       "       [    31,  34000],\n",
       "       [    26,  16000],\n",
       "       [    31,  71000],\n",
       "       [    32, 117000],\n",
       "       [    33,  43000],\n",
       "       [    33,  60000],\n",
       "       [    31,  66000],\n",
       "       [    20,  82000],\n",
       "       [    33,  41000],\n",
       "       [    35,  72000],\n",
       "       [    28,  32000],\n",
       "       [    24,  84000],\n",
       "       [    19,  26000],\n",
       "       [    29,  43000],\n",
       "       [    19,  70000],\n",
       "       [    28,  89000],\n",
       "       [    34,  43000],\n",
       "       [    30,  79000],\n",
       "       [    20,  36000],\n",
       "       [    26,  80000],\n",
       "       [    35,  22000],\n",
       "       [    35,  39000],\n",
       "       [    49,  74000],\n",
       "       [    39, 134000],\n",
       "       [    41,  71000],\n",
       "       [    58, 101000],\n",
       "       [    47,  47000],\n",
       "       [    55, 130000],\n",
       "       [    52, 114000],\n",
       "       [    40, 142000],\n",
       "       [    46,  22000],\n",
       "       [    48,  96000],\n",
       "       [    52, 150000],\n",
       "       [    59,  42000],\n",
       "       [    35,  58000],\n",
       "       [    47,  43000],\n",
       "       [    60, 108000],\n",
       "       [    49,  65000],\n",
       "       [    40,  78000],\n",
       "       [    46,  96000],\n",
       "       [    59, 143000],\n",
       "       [    41,  80000],\n",
       "       [    35,  91000],\n",
       "       [    37, 144000],\n",
       "       [    60, 102000],\n",
       "       [    35,  60000],\n",
       "       [    37,  53000],\n",
       "       [    36, 126000],\n",
       "       [    56, 133000],\n",
       "       [    40,  72000],\n",
       "       [    42,  80000],\n",
       "       [    35, 147000],\n",
       "       [    39,  42000],\n",
       "       [    40, 107000],\n",
       "       [    49,  86000],\n",
       "       [    38, 112000],\n",
       "       [    46,  79000],\n",
       "       [    40,  57000],\n",
       "       [    37,  80000],\n",
       "       [    46,  82000],\n",
       "       [    53, 143000],\n",
       "       [    42, 149000],\n",
       "       [    38,  59000],\n",
       "       [    50,  88000],\n",
       "       [    56, 104000],\n",
       "       [    41,  72000],\n",
       "       [    51, 146000],\n",
       "       [    35,  50000],\n",
       "       [    57, 122000],\n",
       "       [    41,  52000],\n",
       "       [    35,  97000],\n",
       "       [    44,  39000],\n",
       "       [    37,  52000],\n",
       "       [    48, 134000],\n",
       "       [    37, 146000],\n",
       "       [    50,  44000],\n",
       "       [    52,  90000],\n",
       "       [    41,  72000],\n",
       "       [    40,  57000],\n",
       "       [    58,  95000],\n",
       "       [    45, 131000],\n",
       "       [    35,  77000],\n",
       "       [    36, 144000],\n",
       "       [    55, 125000],\n",
       "       [    35,  72000],\n",
       "       [    48,  90000],\n",
       "       [    42, 108000],\n",
       "       [    40,  75000],\n",
       "       [    37,  74000],\n",
       "       [    47, 144000],\n",
       "       [    40,  61000],\n",
       "       [    43, 133000],\n",
       "       [    59,  76000],\n",
       "       [    60,  42000],\n",
       "       [    39, 106000],\n",
       "       [    57,  26000],\n",
       "       [    57,  74000],\n",
       "       [    38,  71000],\n",
       "       [    49,  88000],\n",
       "       [    52,  38000],\n",
       "       [    50,  36000],\n",
       "       [    59,  88000],\n",
       "       [    35,  61000],\n",
       "       [    37,  70000],\n",
       "       [    52,  21000],\n",
       "       [    48, 141000],\n",
       "       [    37,  93000],\n",
       "       [    37,  62000],\n",
       "       [    48, 138000],\n",
       "       [    41,  79000],\n",
       "       [    37,  78000],\n",
       "       [    39, 134000],\n",
       "       [    49,  89000],\n",
       "       [    55,  39000],\n",
       "       [    37,  77000],\n",
       "       [    35,  57000],\n",
       "       [    36,  63000],\n",
       "       [    42,  73000],\n",
       "       [    43, 112000],\n",
       "       [    45,  79000],\n",
       "       [    46, 117000],\n",
       "       [    58,  38000],\n",
       "       [    48,  74000],\n",
       "       [    37, 137000],\n",
       "       [    37,  79000],\n",
       "       [    40,  60000],\n",
       "       [    42,  54000],\n",
       "       [    51, 134000],\n",
       "       [    47, 113000],\n",
       "       [    36, 125000],\n",
       "       [    38,  50000],\n",
       "       [    42,  70000],\n",
       "       [    39,  96000],\n",
       "       [    38,  50000],\n",
       "       [    49, 141000],\n",
       "       [    39,  79000],\n",
       "       [    39,  75000],\n",
       "       [    54, 104000],\n",
       "       [    35,  55000],\n",
       "       [    45,  32000],\n",
       "       [    36,  60000],\n",
       "       [    52, 138000],\n",
       "       [    53,  82000],\n",
       "       [    41,  52000],\n",
       "       [    48,  30000],\n",
       "       [    48, 131000],\n",
       "       [    41,  60000],\n",
       "       [    41,  72000],\n",
       "       [    42,  75000],\n",
       "       [    36, 118000],\n",
       "       [    47, 107000],\n",
       "       [    38,  51000],\n",
       "       [    48, 119000],\n",
       "       [    42,  65000],\n",
       "       [    40,  65000],\n",
       "       [    57,  60000],\n",
       "       [    36,  54000],\n",
       "       [    58, 144000],\n",
       "       [    35,  79000],\n",
       "       [    38,  55000],\n",
       "       [    39, 122000],\n",
       "       [    53, 104000],\n",
       "       [    35,  75000],\n",
       "       [    38,  65000],\n",
       "       [    47,  51000],\n",
       "       [    47, 105000],\n",
       "       [    41,  63000],\n",
       "       [    53,  72000],\n",
       "       [    54, 108000],\n",
       "       [    39,  77000],\n",
       "       [    38,  61000],\n",
       "       [    38, 113000],\n",
       "       [    37,  75000],\n",
       "       [    42,  90000],\n",
       "       [    37,  57000],\n",
       "       [    36,  99000],\n",
       "       [    60,  34000],\n",
       "       [    54,  70000],\n",
       "       [    41,  72000],\n",
       "       [    40,  71000],\n",
       "       [    42,  54000],\n",
       "       [    43, 129000],\n",
       "       [    53,  34000],\n",
       "       [    47,  50000],\n",
       "       [    42,  79000],\n",
       "       [    42, 104000],\n",
       "       [    59,  29000],\n",
       "       [    58,  47000],\n",
       "       [    46,  88000],\n",
       "       [    38,  71000],\n",
       "       [    54,  26000],\n",
       "       [    60,  46000],\n",
       "       [    60,  83000],\n",
       "       [    39,  73000],\n",
       "       [    59, 130000],\n",
       "       [    37,  80000],\n",
       "       [    46,  32000],\n",
       "       [    46,  74000],\n",
       "       [    42,  53000],\n",
       "       [    41,  87000],\n",
       "       [    58,  23000],\n",
       "       [    42,  64000],\n",
       "       [    48,  33000],\n",
       "       [    44, 139000],\n",
       "       [    49,  28000],\n",
       "       [    57,  33000],\n",
       "       [    56,  60000],\n",
       "       [    49,  39000],\n",
       "       [    39,  71000],\n",
       "       [    47,  34000],\n",
       "       [    48,  35000],\n",
       "       [    48,  33000],\n",
       "       [    47,  23000],\n",
       "       [    45,  45000],\n",
       "       [    60,  42000],\n",
       "       [    39,  59000],\n",
       "       [    46,  41000],\n",
       "       [    51,  23000],\n",
       "       [    50,  20000],\n",
       "       [    36,  33000],\n",
       "       [    49,  36000]], dtype=int64)"
      ]
     },
     "execution_count": 39,
     "metadata": {},
     "output_type": "execute_result"
    }
   ],
   "source": [
    "X #exibe os valores"
   ]
  },
  {
   "cell_type": "code",
   "execution_count": 40,
   "metadata": {},
   "outputs": [
    {
     "data": {
      "text/plain": [
       "array([0, 0, 0, 0, 0, 0, 0, 1, 0, 0, 0, 0, 0, 0, 0, 0, 1, 1, 1, 1, 1, 1,\n",
       "       1, 1, 1, 1, 1, 1, 0, 0, 0, 1, 0, 0, 0, 0, 0, 0, 0, 0, 0, 0, 0, 0,\n",
       "       0, 0, 0, 0, 1, 0, 0, 0, 0, 0, 0, 0, 0, 0, 0, 0, 0, 0, 0, 1, 0, 0,\n",
       "       0, 0, 0, 0, 0, 0, 0, 0, 0, 1, 0, 0, 0, 0, 0, 0, 0, 0, 0, 1, 0, 0,\n",
       "       0, 0, 0, 0, 0, 0, 0, 0, 0, 1, 0, 0, 0, 0, 0, 1, 0, 0, 0, 0, 0, 0,\n",
       "       0, 0, 0, 0, 0, 0, 0, 0, 0, 0, 0, 0, 0, 0, 0, 0, 0, 0, 0, 0, 0, 0,\n",
       "       0, 0, 0, 0, 0, 1, 0, 0, 0, 0, 0, 0, 0, 0, 1, 0, 0, 0, 0, 0, 0, 0,\n",
       "       0, 0, 0, 0, 0, 1, 1, 0, 0, 0, 0, 0, 0, 0, 1, 0, 0, 0, 0, 0, 0, 0,\n",
       "       0, 0, 0, 0, 0, 0, 1, 0, 0, 0, 0, 0, 0, 0, 0, 0, 0, 0, 0, 0, 0, 0,\n",
       "       0, 0, 0, 0, 1, 0, 1, 0, 1, 0, 1, 0, 1, 1, 0, 0, 0, 1, 0, 0, 0, 1,\n",
       "       0, 1, 1, 1, 0, 0, 1, 1, 0, 1, 1, 0, 1, 1, 0, 1, 0, 0, 0, 1, 1, 0,\n",
       "       1, 1, 0, 1, 0, 1, 0, 1, 0, 0, 1, 1, 0, 1, 0, 0, 1, 1, 0, 1, 1, 0,\n",
       "       1, 1, 0, 0, 1, 0, 0, 1, 1, 1, 1, 1, 0, 1, 1, 1, 1, 0, 1, 1, 0, 1,\n",
       "       0, 1, 0, 1, 1, 1, 1, 0, 0, 0, 1, 1, 0, 1, 1, 1, 1, 1, 0, 0, 0, 1,\n",
       "       1, 0, 0, 1, 0, 1, 0, 1, 1, 0, 1, 0, 1, 1, 0, 1, 1, 0, 0, 0, 1, 1,\n",
       "       0, 1, 0, 0, 1, 0, 1, 0, 0, 1, 1, 0, 0, 1, 1, 0, 1, 1, 0, 0, 1, 0,\n",
       "       1, 0, 1, 1, 1, 0, 1, 0, 1, 1, 1, 0, 1, 1, 1, 1, 0, 1, 1, 1, 0, 1,\n",
       "       0, 1, 0, 0, 1, 1, 0, 1, 1, 1, 1, 1, 1, 0, 1, 1, 1, 1, 1, 1, 0, 1,\n",
       "       1, 1, 0, 1], dtype=int64)"
      ]
     },
     "execution_count": 40,
     "metadata": {},
     "output_type": "execute_result"
    }
   ],
   "source": [
    "y # exibe os valores"
   ]
  },
  {
   "cell_type": "markdown",
   "metadata": {},
   "source": [
    "Dividindo os dados em treino e teste"
   ]
  },
  {
   "cell_type": "code",
   "execution_count": 41,
   "metadata": {},
   "outputs": [],
   "source": [
    "from sklearn.model_selection import train_test_split # Biblioteca para dividir os dados em treino e teste\n",
    "X_treino, X_teste, Y_treino, Y_teste = train_test_split(X, y, test_size=0.3, random_state=3)"
   ]
  },
  {
   "cell_type": "markdown",
   "metadata": {},
   "source": [
    "Normalizando os dados com StandScaller"
   ]
  },
  {
   "cell_type": "code",
   "execution_count": 42,
   "metadata": {},
   "outputs": [],
   "source": [
    "sc = StandardScaler() # Biblioteca para normalizar os dados"
   ]
  },
  {
   "cell_type": "code",
   "execution_count": 43,
   "metadata": {},
   "outputs": [],
   "source": [
    "X_treino = sc.fit_transform(X_treino) # Realiza a transsformação dos dados\n",
    "X_teste = sc.fit_transform(X_teste) # Realiza a transsformação dos dados"
   ]
  },
  {
   "cell_type": "code",
   "execution_count": 44,
   "metadata": {},
   "outputs": [],
   "source": [
    "# Cria o algoritmo de machine learning e treinando o algoritmo SVM\n",
    "algoritmo = SVC(kernel='linear', random_state=3) # Kernel é a equação do modelo svm"
   ]
  },
  {
   "cell_type": "code",
   "execution_count": 45,
   "metadata": {},
   "outputs": [
    {
     "data": {
      "text/html": [
       "<style>#sk-container-id-2 {color: black;}#sk-container-id-2 pre{padding: 0;}#sk-container-id-2 div.sk-toggleable {background-color: white;}#sk-container-id-2 label.sk-toggleable__label {cursor: pointer;display: block;width: 100%;margin-bottom: 0;padding: 0.3em;box-sizing: border-box;text-align: center;}#sk-container-id-2 label.sk-toggleable__label-arrow:before {content: \"▸\";float: left;margin-right: 0.25em;color: #696969;}#sk-container-id-2 label.sk-toggleable__label-arrow:hover:before {color: black;}#sk-container-id-2 div.sk-estimator:hover label.sk-toggleable__label-arrow:before {color: black;}#sk-container-id-2 div.sk-toggleable__content {max-height: 0;max-width: 0;overflow: hidden;text-align: left;background-color: #f0f8ff;}#sk-container-id-2 div.sk-toggleable__content pre {margin: 0.2em;color: black;border-radius: 0.25em;background-color: #f0f8ff;}#sk-container-id-2 input.sk-toggleable__control:checked~div.sk-toggleable__content {max-height: 200px;max-width: 100%;overflow: auto;}#sk-container-id-2 input.sk-toggleable__control:checked~label.sk-toggleable__label-arrow:before {content: \"▾\";}#sk-container-id-2 div.sk-estimator input.sk-toggleable__control:checked~label.sk-toggleable__label {background-color: #d4ebff;}#sk-container-id-2 div.sk-label input.sk-toggleable__control:checked~label.sk-toggleable__label {background-color: #d4ebff;}#sk-container-id-2 input.sk-hidden--visually {border: 0;clip: rect(1px 1px 1px 1px);clip: rect(1px, 1px, 1px, 1px);height: 1px;margin: -1px;overflow: hidden;padding: 0;position: absolute;width: 1px;}#sk-container-id-2 div.sk-estimator {font-family: monospace;background-color: #f0f8ff;border: 1px dotted black;border-radius: 0.25em;box-sizing: border-box;margin-bottom: 0.5em;}#sk-container-id-2 div.sk-estimator:hover {background-color: #d4ebff;}#sk-container-id-2 div.sk-parallel-item::after {content: \"\";width: 100%;border-bottom: 1px solid gray;flex-grow: 1;}#sk-container-id-2 div.sk-label:hover label.sk-toggleable__label {background-color: #d4ebff;}#sk-container-id-2 div.sk-serial::before {content: \"\";position: absolute;border-left: 1px solid gray;box-sizing: border-box;top: 0;bottom: 0;left: 50%;z-index: 0;}#sk-container-id-2 div.sk-serial {display: flex;flex-direction: column;align-items: center;background-color: white;padding-right: 0.2em;padding-left: 0.2em;position: relative;}#sk-container-id-2 div.sk-item {position: relative;z-index: 1;}#sk-container-id-2 div.sk-parallel {display: flex;align-items: stretch;justify-content: center;background-color: white;position: relative;}#sk-container-id-2 div.sk-item::before, #sk-container-id-2 div.sk-parallel-item::before {content: \"\";position: absolute;border-left: 1px solid gray;box-sizing: border-box;top: 0;bottom: 0;left: 50%;z-index: -1;}#sk-container-id-2 div.sk-parallel-item {display: flex;flex-direction: column;z-index: 1;position: relative;background-color: white;}#sk-container-id-2 div.sk-parallel-item:first-child::after {align-self: flex-end;width: 50%;}#sk-container-id-2 div.sk-parallel-item:last-child::after {align-self: flex-start;width: 50%;}#sk-container-id-2 div.sk-parallel-item:only-child::after {width: 0;}#sk-container-id-2 div.sk-dashed-wrapped {border: 1px dashed gray;margin: 0 0.4em 0.5em 0.4em;box-sizing: border-box;padding-bottom: 0.4em;background-color: white;}#sk-container-id-2 div.sk-label label {font-family: monospace;font-weight: bold;display: inline-block;line-height: 1.2em;}#sk-container-id-2 div.sk-label-container {text-align: center;}#sk-container-id-2 div.sk-container {/* jupyter's `normalize.less` sets `[hidden] { display: none; }` but bootstrap.min.css set `[hidden] { display: none !important; }` so we also need the `!important` here to be able to override the default hidden behavior on the sphinx rendered scikit-learn.org. See: https://github.com/scikit-learn/scikit-learn/issues/21755 */display: inline-block !important;position: relative;}#sk-container-id-2 div.sk-text-repr-fallback {display: none;}</style><div id=\"sk-container-id-2\" class=\"sk-top-container\"><div class=\"sk-text-repr-fallback\"><pre>SVC(kernel=&#x27;linear&#x27;, random_state=3)</pre><b>In a Jupyter environment, please rerun this cell to show the HTML representation or trust the notebook. <br />On GitHub, the HTML representation is unable to render, please try loading this page with nbviewer.org.</b></div><div class=\"sk-container\" hidden><div class=\"sk-item\"><div class=\"sk-estimator sk-toggleable\"><input class=\"sk-toggleable__control sk-hidden--visually\" id=\"sk-estimator-id-2\" type=\"checkbox\" checked><label for=\"sk-estimator-id-2\" class=\"sk-toggleable__label sk-toggleable__label-arrow\">SVC</label><div class=\"sk-toggleable__content\"><pre>SVC(kernel=&#x27;linear&#x27;, random_state=3)</pre></div></div></div></div></div>"
      ],
      "text/plain": [
       "SVC(kernel='linear', random_state=3)"
      ]
     },
     "execution_count": 45,
     "metadata": {},
     "output_type": "execute_result"
    }
   ],
   "source": [
    "# treinando o modelo\n",
    "algoritmo.fit(X_treino, Y_treino) # treina o modelo com os dados de entrada para cada saida"
   ]
  },
  {
   "cell_type": "code",
   "execution_count": 46,
   "metadata": {},
   "outputs": [],
   "source": [
    "# Gerando previsão dos resultados\n",
    "y_prev = algoritmo.predict(X_teste) #Realizando a predição dos valores"
   ]
  },
  {
   "cell_type": "code",
   "execution_count": 47,
   "metadata": {},
   "outputs": [
    {
     "data": {
      "text/plain": [
       "array([[ 0.88051148,  0.12484894],\n",
       "       [ 0.98171969, -1.25765908],\n",
       "       [ 2.19621829, -1.14480128],\n",
       "       [-1.75090214, -0.58051229],\n",
       "       [-1.04244462,  0.54806568],\n",
       "       [ 0.27326218,  0.23770674],\n",
       "       [ 1.38655256, -1.31408798],\n",
       "       [-1.44727749, -0.60872674],\n",
       "       [ 0.67809505, -0.86265679],\n",
       "       [-1.04244462, -1.48337467],\n",
       "       [ 0.3744704 , -0.27015335],\n",
       "       [ 0.17205397, -0.77801344],\n",
       "       [ 0.88051148,  0.51985123],\n",
       "       [-0.2327789 , -0.4676545 ],\n",
       "       [-1.14365284, -1.06015793],\n",
       "       [-1.34606927, -1.42694577],\n",
       "       [-0.73881998, -0.58051229],\n",
       "       [-1.34606927,  0.40699343],\n",
       "       [-0.03036246,  1.90235924],\n",
       "       [ 0.27326218, -0.27015335],\n",
       "       [-0.53640354,  0.46342233],\n",
       "       [-0.33398711, -1.25765908],\n",
       "       [-0.84002819,  0.29413563],\n",
       "       [ 0.47567862, -0.12908111],\n",
       "       [-0.43519533,  1.22521246],\n",
       "       [-0.63761176, -0.32658225],\n",
       "       [ 0.47567862, -0.43944005],\n",
       "       [ 1.48776077,  2.26914708],\n",
       "       [ 0.3744704 ,  0.26592118],\n",
       "       [ 0.88051148, -1.31408798],\n",
       "       [ 0.67809505,  1.95878814],\n",
       "       [-0.94123641, -1.06015793],\n",
       "       [ 0.47567862,  0.97128242],\n",
       "       [ 0.88051148,  0.74556682],\n",
       "       [-0.2327789 ,  0.51985123],\n",
       "       [ 0.3744704 , -0.49586895],\n",
       "       [-0.73881998,  1.05592576],\n",
       "       [ 0.07084575, -0.2419389 ],\n",
       "       [-0.2327789 ,  0.60449458],\n",
       "       [-1.75090214,  0.35056453],\n",
       "       [ 1.18413613,  2.01521704],\n",
       "       [-1.04244462,  1.90235924],\n",
       "       [-0.2327789 ,  2.18450374],\n",
       "       [ 0.17205397, -0.77801344],\n",
       "       [ 1.18413613, -1.17301573],\n",
       "       [ 0.47567862,  0.01199114],\n",
       "       [-1.85211035, -1.22944463],\n",
       "       [ 0.77930326,  1.73307255],\n",
       "       [-0.2327789 ,  0.15306339],\n",
       "       [-1.24486106,  0.49163678],\n",
       "       [-0.94123641, -0.4112256 ],\n",
       "       [-0.84002819,  0.15306339],\n",
       "       [-0.13157068, -0.27015335],\n",
       "       [-1.04244462,  0.74556682],\n",
       "       [ 0.98171969, -1.11658683],\n",
       "       [ 0.3744704 ,  0.49163678],\n",
       "       [-1.34606927, -0.4112256 ],\n",
       "       [ 0.98171969,  0.99949687],\n",
       "       [-0.63761176, -1.53980357],\n",
       "       [ 0.27326218, -0.12908111],\n",
       "       [-0.73881998, -1.48337467],\n",
       "       [ 1.48776077, -0.89087124],\n",
       "       [ 1.08292791,  2.01521704],\n",
       "       [-0.2327789 ,  0.09663449],\n",
       "       [-0.2327789 , -0.2983678 ],\n",
       "       [-0.03036246,  0.26592118],\n",
       "       [ 0.98171969, -0.74979899],\n",
       "       [ 2.2974265 , -0.77801344],\n",
       "       [-0.63761176, -0.10086666],\n",
       "       [ 1.79138542,  1.56378585],\n",
       "       [-1.64969392,  0.06842004],\n",
       "       [ 1.58896899, -1.00372903],\n",
       "       [-0.73881998, -0.21372445],\n",
       "       [-0.2327789 , -1.31408798],\n",
       "       [ 0.17205397,  0.20949229],\n",
       "       [-0.2327789 , -0.55229784],\n",
       "       [-1.14365284,  0.29413563],\n",
       "       [ 0.27326218, -0.3547967 ],\n",
       "       [-0.53640354, -1.45516022],\n",
       "       [-0.94123641,  0.54806568],\n",
       "       [ 1.58896899,  2.07164594],\n",
       "       [-0.2327789 ,  0.06842004],\n",
       "       [ 0.47567862,  2.24093263],\n",
       "       [ 0.77930326, -1.34230242],\n",
       "       [ 0.98171969, -0.5240834 ],\n",
       "       [ 0.47567862,  0.29413563],\n",
       "       [ 0.17205397,  1.02771132],\n",
       "       [ 0.07084575, -0.2983678 ],\n",
       "       [ 0.3744704 , -0.18551   ],\n",
       "       [-0.13157068, -0.55229784],\n",
       "       [-0.53640354,  1.33807026],\n",
       "       [-1.34606927, -1.06015793],\n",
       "       [-1.14365284,  0.06842004],\n",
       "       [ 0.98171969,  2.09986039],\n",
       "       [ 1.08292791, -1.03194348],\n",
       "       [ 1.08292791,  1.73307255],\n",
       "       [-0.73881998,  0.29413563],\n",
       "       [ 2.19621829,  0.18127784],\n",
       "       [ 0.88051148, -0.80622789],\n",
       "       [-1.04244462, -0.32658225],\n",
       "       [-0.33398711,  1.19699801],\n",
       "       [-1.95331857,  0.35056453],\n",
       "       [-1.04244462, -0.43944005],\n",
       "       [-1.24486106,  0.26592118],\n",
       "       [ 2.09501007, -1.31408798],\n",
       "       [-0.53640354,  1.84593034],\n",
       "       [-1.14365284, -1.48337467],\n",
       "       [ 0.47567862,  1.08414021],\n",
       "       [-0.63761176,  0.12484894],\n",
       "       [ 0.88051148, -1.34230242],\n",
       "       [ 0.27326218, -0.63694119],\n",
       "       [ 2.2974265 ,  0.37877898],\n",
       "       [-0.94123641, -0.2983678 ],\n",
       "       [-1.75090214, -0.94730013],\n",
       "       [-0.33398711, -0.74979899],\n",
       "       [ 0.98171969, -1.39873132],\n",
       "       [ 0.3744704 ,  0.29413563],\n",
       "       [-1.44727749,  0.35056453],\n",
       "       [ 0.47567862,  0.29413563],\n",
       "       [ 0.88051148,  0.35056453]])"
      ]
     },
     "execution_count": 47,
     "metadata": {},
     "output_type": "execute_result"
    }
   ],
   "source": [
    "X_teste"
   ]
  },
  {
   "cell_type": "code",
   "execution_count": 48,
   "metadata": {},
   "outputs": [],
   "source": [
    "X_test_padrao = sc.inverse_transform(X_teste)"
   ]
  },
  {
   "cell_type": "code",
   "execution_count": 49,
   "metadata": {},
   "outputs": [
    {
     "data": {
      "text/plain": [
       "array([[4.60e+01, 7.40e+04],\n",
       "       [4.70e+01, 2.50e+04],\n",
       "       [5.90e+01, 2.90e+04],\n",
       "       [2.00e+01, 4.90e+04],\n",
       "       [2.70e+01, 8.90e+04],\n",
       "       [4.00e+01, 7.80e+04],\n",
       "       [5.10e+01, 2.30e+04],\n",
       "       [2.30e+01, 4.80e+04],\n",
       "       [4.40e+01, 3.90e+04],\n",
       "       [2.70e+01, 1.70e+04],\n",
       "       [4.10e+01, 6.00e+04],\n",
       "       [3.90e+01, 4.20e+04],\n",
       "       [4.60e+01, 8.80e+04],\n",
       "       [3.50e+01, 5.30e+04],\n",
       "       [2.60e+01, 3.20e+04],\n",
       "       [2.40e+01, 1.90e+04],\n",
       "       [3.00e+01, 4.90e+04],\n",
       "       [2.40e+01, 8.40e+04],\n",
       "       [3.70e+01, 1.37e+05],\n",
       "       [4.00e+01, 6.00e+04],\n",
       "       [3.20e+01, 8.60e+04],\n",
       "       [3.40e+01, 2.50e+04],\n",
       "       [2.90e+01, 8.00e+04],\n",
       "       [4.20e+01, 6.50e+04],\n",
       "       [3.30e+01, 1.13e+05],\n",
       "       [3.10e+01, 5.80e+04],\n",
       "       [4.20e+01, 5.40e+04],\n",
       "       [5.20e+01, 1.50e+05],\n",
       "       [4.10e+01, 7.90e+04],\n",
       "       [4.60e+01, 2.30e+04],\n",
       "       [4.40e+01, 1.39e+05],\n",
       "       [2.80e+01, 3.20e+04],\n",
       "       [4.20e+01, 1.04e+05],\n",
       "       [4.60e+01, 9.60e+04],\n",
       "       [3.50e+01, 8.80e+04],\n",
       "       [4.10e+01, 5.20e+04],\n",
       "       [3.00e+01, 1.07e+05],\n",
       "       [3.80e+01, 6.10e+04],\n",
       "       [3.50e+01, 9.10e+04],\n",
       "       [2.00e+01, 8.20e+04],\n",
       "       [4.90e+01, 1.41e+05],\n",
       "       [2.70e+01, 1.37e+05],\n",
       "       [3.50e+01, 1.47e+05],\n",
       "       [3.90e+01, 4.20e+04],\n",
       "       [4.90e+01, 2.80e+04],\n",
       "       [4.20e+01, 7.00e+04],\n",
       "       [1.90e+01, 2.60e+04],\n",
       "       [4.50e+01, 1.31e+05],\n",
       "       [3.50e+01, 7.50e+04],\n",
       "       [2.50e+01, 8.70e+04],\n",
       "       [2.80e+01, 5.50e+04],\n",
       "       [2.90e+01, 7.50e+04],\n",
       "       [3.60e+01, 6.00e+04],\n",
       "       [2.70e+01, 9.60e+04],\n",
       "       [4.70e+01, 3.00e+04],\n",
       "       [4.10e+01, 8.70e+04],\n",
       "       [2.40e+01, 5.50e+04],\n",
       "       [4.70e+01, 1.05e+05],\n",
       "       [3.10e+01, 1.50e+04],\n",
       "       [4.00e+01, 6.50e+04],\n",
       "       [3.00e+01, 1.70e+04],\n",
       "       [5.20e+01, 3.80e+04],\n",
       "       [4.80e+01, 1.41e+05],\n",
       "       [3.50e+01, 7.30e+04],\n",
       "       [3.50e+01, 5.90e+04],\n",
       "       [3.70e+01, 7.90e+04],\n",
       "       [4.70e+01, 4.30e+04],\n",
       "       [6.00e+01, 4.20e+04],\n",
       "       [3.10e+01, 6.60e+04],\n",
       "       [5.50e+01, 1.25e+05],\n",
       "       [2.10e+01, 7.20e+04],\n",
       "       [5.30e+01, 3.40e+04],\n",
       "       [3.00e+01, 6.20e+04],\n",
       "       [3.50e+01, 2.30e+04],\n",
       "       [3.90e+01, 7.70e+04],\n",
       "       [3.50e+01, 5.00e+04],\n",
       "       [2.60e+01, 8.00e+04],\n",
       "       [4.00e+01, 5.70e+04],\n",
       "       [3.20e+01, 1.80e+04],\n",
       "       [2.80e+01, 8.90e+04],\n",
       "       [5.30e+01, 1.43e+05],\n",
       "       [3.50e+01, 7.20e+04],\n",
       "       [4.20e+01, 1.49e+05],\n",
       "       [4.50e+01, 2.20e+04],\n",
       "       [4.70e+01, 5.10e+04],\n",
       "       [4.20e+01, 8.00e+04],\n",
       "       [3.90e+01, 1.06e+05],\n",
       "       [3.80e+01, 5.90e+04],\n",
       "       [4.10e+01, 6.30e+04],\n",
       "       [3.60e+01, 5.00e+04],\n",
       "       [3.20e+01, 1.17e+05],\n",
       "       [2.40e+01, 3.20e+04],\n",
       "       [2.60e+01, 7.20e+04],\n",
       "       [4.70e+01, 1.44e+05],\n",
       "       [4.80e+01, 3.30e+04],\n",
       "       [4.80e+01, 1.31e+05],\n",
       "       [3.00e+01, 8.00e+04],\n",
       "       [5.90e+01, 7.60e+04],\n",
       "       [4.60e+01, 4.10e+04],\n",
       "       [2.70e+01, 5.80e+04],\n",
       "       [3.40e+01, 1.12e+05],\n",
       "       [1.80e+01, 8.20e+04],\n",
       "       [2.70e+01, 5.40e+04],\n",
       "       [2.50e+01, 7.90e+04],\n",
       "       [5.80e+01, 2.30e+04],\n",
       "       [3.20e+01, 1.35e+05],\n",
       "       [2.60e+01, 1.70e+04],\n",
       "       [4.20e+01, 1.08e+05],\n",
       "       [3.10e+01, 7.40e+04],\n",
       "       [4.60e+01, 2.20e+04],\n",
       "       [4.00e+01, 4.70e+04],\n",
       "       [6.00e+01, 8.30e+04],\n",
       "       [2.80e+01, 5.90e+04],\n",
       "       [2.00e+01, 3.60e+04],\n",
       "       [3.40e+01, 4.30e+04],\n",
       "       [4.70e+01, 2.00e+04],\n",
       "       [4.10e+01, 8.00e+04],\n",
       "       [2.30e+01, 8.20e+04],\n",
       "       [4.20e+01, 8.00e+04],\n",
       "       [4.60e+01, 8.20e+04]])"
      ]
     },
     "execution_count": 49,
     "metadata": {},
     "output_type": "execute_result"
    }
   ],
   "source": [
    "X_test_padrao"
   ]
  },
  {
   "cell_type": "markdown",
   "metadata": {},
   "source": [
    "Gerando matriz de confusão"
   ]
  },
  {
   "cell_type": "code",
   "execution_count": 50,
   "metadata": {},
   "outputs": [
    {
     "name": "stdout",
     "output_type": "stream",
     "text": [
      "[[72  6]\n",
      " [13 29]]\n"
     ]
    }
   ],
   "source": [
    "cm = confusion_matrix(Y_teste, y_prev)\n",
    "print(cm)"
   ]
  },
  {
   "cell_type": "markdown",
   "metadata": {},
   "source": [
    "Gerando a matriz de confusão de forma gráfica"
   ]
  },
  {
   "cell_type": "code",
   "execution_count": 51,
   "metadata": {},
   "outputs": [],
   "source": [
    "import seaborn as sns #Importa a biblioteca seaborn"
   ]
  },
  {
   "cell_type": "code",
   "execution_count": 52,
   "metadata": {},
   "outputs": [
    {
     "name": "stdout",
     "output_type": "stream",
     "text": [
      "<class 'pandas.core.frame.DataFrame'>\n",
      "RangeIndex: 400 entries, 0 to 399\n",
      "Data columns (total 5 columns):\n",
      " #   Column            Non-Null Count  Dtype \n",
      "---  ------            --------------  ----- \n",
      " 0   Usuario           400 non-null    int64 \n",
      " 1   Genero            400 non-null    object\n",
      " 2   Idade             400 non-null    int64 \n",
      " 3   Salario Estimado  400 non-null    int64 \n",
      " 4   Comprou           400 non-null    int64 \n",
      "dtypes: int64(4), object(1)\n",
      "memory usage: 15.8+ KB\n",
      "None\n"
     ]
    },
    {
     "data": {
      "image/png": "[encoded data removed]",
      "text/plain": [
       "<Figure size 800x600 with 1 Axes>"
      ]
     },
     "metadata": {},
     "output_type": "display_data"
    }
   ],
   "source": [
    "plt.figure(figsize=(8,6))\n",
    "print(df.info())\n",
    "# sns.heatmap(informação a ser exibida, exibir valores, cor, cbar, rotulos dos eixos)\n",
    "sns.heatmap(cm, annot= True, fmt='d', cmap='Blues', cbar=False, xticklabels=['Não comprou, ', 'Comprou'], yticklabels=['Não comprou', 'Comprou'])\n",
    "plt.xlabel('Previsão')\n",
    "plt.ylabel('Verdadeiro')\n",
    "plt.title('Matriz de confusão - Classificação de compra ou não dos clientes')\n",
    "plt.show()"
   ]
  },
  {
   "cell_type": "code",
   "execution_count": 53,
   "metadata": {},
   "outputs": [
    {
     "data": {
      "text/plain": [
       "0.8416666666666667"
      ]
     },
     "execution_count": 53,
     "metadata": {},
     "output_type": "execute_result"
    }
   ],
   "source": [
    "# acuracia = vp + vn / total\n",
    "acc = accuracy_score(Y_teste, y_prev)\n",
    "acc"
   ]
  },
  {
   "cell_type": "code",
   "execution_count": 54,
   "metadata": {},
   "outputs": [
    {
     "data": {
      "text/plain": [
       "0.8285714285714286"
      ]
     },
     "execution_count": 54,
     "metadata": {},
     "output_type": "execute_result"
    }
   ],
   "source": [
    "# precisao = vp / (vp+fn)\n",
    "prec = precision_score(Y_teste, y_prev)\n",
    "prec"
   ]
  },
  {
   "cell_type": "markdown",
   "metadata": {},
   "source": [
    "f1_score"
   ]
  },
  {
   "cell_type": "markdown",
   "metadata": {},
   "source": [
    "#F1_score é a métrica mais completa para avaliar um modelo de machine learning pois \n",
    "#leva em consideração além dos verdadeiros positivos e verdadeiros negativos, os falsos poitivos e falsos negativos"
   ]
  },
  {
   "cell_type": "code",
   "execution_count": 56,
   "metadata": {},
   "outputs": [
    {
     "data": {
      "text/plain": [
       "0.7532467532467533"
      ]
     },
     "execution_count": 56,
     "metadata": {},
     "output_type": "execute_result"
    }
   ],
   "source": [
    "\n",
    "f1 = f1_score(Y_teste, y_prev)\n",
    "f1"
   ]
  },
  {
   "cell_type": "code",
   "execution_count": 57,
   "metadata": {},
   "outputs": [
    {
     "name": "stderr",
     "output_type": "stream",
     "text": [
      "C:\\Users\\dsadm\\AppData\\Local\\Temp\\ipykernel_22952\\3609350640.py:9: UserWarning: *c* argument looks like a single numeric RGB or RGBA sequence, which should be avoided as value-mapping will have precedence in case its length matches with *x* & *y*.  Please use the *color* keyword-argument or provide a 2D array with a single row if you intend to specify the same RGB or RGBA value for all points.\n",
      "  plt.scatter(_x[_y ==j, 0], _x[_y==j,1],\n"
     ]
    },
    {
     "data": {
      "image/png": "[encoded data removed]",
      "text/plain": [
       "<Figure size 640x480 with 1 Axes>"
      ]
     },
     "metadata": {},
     "output_type": "display_data"
    }
   ],
   "source": [
    "_x, _y = X_treino, Y_treino\n",
    "X1, X2 = np.meshgrid(np.arange(start= _x[:, 0].min() - 1, stop= _x[:, 0].max()+ 1, step= 0.01),\n",
    "                     np.arange(start= _x[:, 1].min() - 1, stop= _x[:, 1].max()+ 1, step= 0.01))\n",
    "plt.contour(X1,X2, algoritmo.predict(np.array([X1.ravel(), X2.ravel()]).T).reshape(X1.shape),\n",
    "            alpha = 0.75, cmap = ListedColormap(('red', 'blue')))\n",
    "plt.xlim(X1.min(), X1.max())\n",
    "plt.ylim(X2.min(), X2.max())\n",
    "for i, j in enumerate(np.unique(_y)):\n",
    "    plt.scatter(_x[_y ==j, 0], _x[_y==j,1],\n",
    "                c = ListedColormap(('gray', 'black'))(i), label = j)\n",
    "plt.title('SVM (Dados de treinamento)')\n",
    "plt.xlabel('Idade')\n",
    "plt.ylabel('Salário Anual (Estimado)')\n",
    "plt.legend()\n",
    "plt.show()"
   ]
  },
  {
   "cell_type": "markdown",
   "metadata": {},
   "source": [
    "Gerando visualizaçao dos dados de teste"
   ]
  }
 ],
 "metadata": {
  "kernelspec": {
   "display_name": "Python 3",
   "language": "python",
   "name": "python3"
  },
  "language_info": {
   "codemirror_mode": {
    "name": "ipython",
    "version": 3
   },
   "file_extension": ".py",
   "mimetype": "text/x-python",
   "name": "python",
   "nbconvert_exporter": "python",
   "pygments_lexer": "ipython3",
   "version": "3.11.8"
  }
 },
 "nbformat": 4,
 "nbformat_minor": 2
}
